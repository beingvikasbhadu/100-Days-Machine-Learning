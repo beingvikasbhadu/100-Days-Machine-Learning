{
 "cells": [
  {
   "cell_type": "code",
   "execution_count": 1,
   "id": "3580956f",
   "metadata": {},
   "outputs": [],
   "source": [
    "# Api: Application Programming Interface"
   ]
  },
  {
   "cell_type": "code",
   "execution_count": 2,
   "id": "30d0812c",
   "metadata": {},
   "outputs": [],
   "source": [
    "# Find free Api's through: \"https://rapidapi.com/collection/list-of-free-apis\""
   ]
  },
  {
   "cell_type": "code",
   "execution_count": 32,
   "id": "0046ccb9",
   "metadata": {},
   "outputs": [],
   "source": [
    "# Using Keyword Research for Youtube\n",
    "import requests\n",
    "\n",
    "url = \"https://keyword-research-for-youtube.p.rapidapi.com/yttags.php\"\n",
    "\n",
    "querystring = {\"keyword\":\"Movies\"} # movies keyword realted searches on youtube\n",
    "\n",
    "headers = {\n",
    "\t\"X-RapidAPI-Key\": \"784268d51dmsh7e9955292f1d549p137e22jsn7b376a1de04b\",\n",
    "\t\"X-RapidAPI-Host\": \"keyword-research-for-youtube.p.rapidapi.com\"\n",
    "}\n",
    "\n",
    "response = requests.request(\"GET\", url, headers=headers, params=querystring)"
   ]
  },
  {
   "cell_type": "code",
   "execution_count": 33,
   "id": "4edcb137",
   "metadata": {},
   "outputs": [],
   "source": [
    "import pandas as pd\n",
    "df=pd.DataFrame(response.json()[\"related_keywords\"])"
   ]
  },
  {
   "cell_type": "code",
   "execution_count": 35,
   "id": "833b2ddb",
   "metadata": {},
   "outputs": [
    {
     "data": {
      "text/html": [
       "<div>\n",
       "<style scoped>\n",
       "    .dataframe tbody tr th:only-of-type {\n",
       "        vertical-align: middle;\n",
       "    }\n",
       "\n",
       "    .dataframe tbody tr th {\n",
       "        vertical-align: top;\n",
       "    }\n",
       "\n",
       "    .dataframe thead th {\n",
       "        text-align: right;\n",
       "    }\n",
       "</style>\n",
       "<table border=\"1\" class=\"dataframe\">\n",
       "  <thead>\n",
       "    <tr style=\"text-align: right;\">\n",
       "      <th></th>\n",
       "      <th>keyword</th>\n",
       "      <th>monthlysearch</th>\n",
       "      <th>competition_score</th>\n",
       "      <th>difficulty</th>\n",
       "      <th>overallscore</th>\n",
       "      <th>last_update</th>\n",
       "    </tr>\n",
       "  </thead>\n",
       "  <tbody>\n",
       "    <tr>\n",
       "      <th>0</th>\n",
       "      <td>new movies</td>\n",
       "      <td>1016416</td>\n",
       "      <td>90</td>\n",
       "      <td>High</td>\n",
       "      <td>43</td>\n",
       "      <td>2023-04-11T09:04:28Z</td>\n",
       "    </tr>\n",
       "    <tr>\n",
       "      <th>1</th>\n",
       "      <td>hindi dubbed movies 2023</td>\n",
       "      <td>67744</td>\n",
       "      <td>92</td>\n",
       "      <td>High</td>\n",
       "      <td>35</td>\n",
       "      <td>2023-04-11T09:04:28Z</td>\n",
       "    </tr>\n",
       "    <tr>\n",
       "      <th>2</th>\n",
       "      <td>2023 best movies</td>\n",
       "      <td>6565</td>\n",
       "      <td>69</td>\n",
       "      <td>High</td>\n",
       "      <td>40</td>\n",
       "      <td>2023-04-11T09:04:28Z</td>\n",
       "    </tr>\n",
       "    <tr>\n",
       "      <th>3</th>\n",
       "      <td>new hindi dubbed movies 2023</td>\n",
       "      <td>143827</td>\n",
       "      <td>92</td>\n",
       "      <td>High</td>\n",
       "      <td>37</td>\n",
       "      <td>2023-04-11T09:04:28Z</td>\n",
       "    </tr>\n",
       "    <tr>\n",
       "      <th>4</th>\n",
       "      <td>action movies 2023</td>\n",
       "      <td>39349</td>\n",
       "      <td>67</td>\n",
       "      <td>High</td>\n",
       "      <td>46</td>\n",
       "      <td>2023-04-11T09:04:28Z</td>\n",
       "    </tr>\n",
       "  </tbody>\n",
       "</table>\n",
       "</div>"
      ],
      "text/plain": [
       "                        keyword  monthlysearch  competition_score difficulty  \\\n",
       "0                    new movies        1016416                 90       High   \n",
       "1      hindi dubbed movies 2023          67744                 92       High   \n",
       "2              2023 best movies           6565                 69       High   \n",
       "3  new hindi dubbed movies 2023         143827                 92       High   \n",
       "4            action movies 2023          39349                 67       High   \n",
       "\n",
       "   overallscore           last_update  \n",
       "0            43  2023-04-11T09:04:28Z  \n",
       "1            35  2023-04-11T09:04:28Z  \n",
       "2            40  2023-04-11T09:04:28Z  \n",
       "3            37  2023-04-11T09:04:28Z  \n",
       "4            46  2023-04-11T09:04:28Z  "
      ]
     },
     "execution_count": 35,
     "metadata": {},
     "output_type": "execute_result"
    }
   ],
   "source": [
    "df.head()"
   ]
  },
  {
   "cell_type": "code",
   "execution_count": null,
   "id": "c49f74fb",
   "metadata": {},
   "outputs": [],
   "source": []
  }
 ],
 "metadata": {
  "kernelspec": {
   "display_name": "Python 3 (ipykernel)",
   "language": "python",
   "name": "python3"
  },
  "language_info": {
   "codemirror_mode": {
    "name": "ipython",
    "version": 3
   },
   "file_extension": ".py",
   "mimetype": "text/x-python",
   "name": "python",
   "nbconvert_exporter": "python",
   "pygments_lexer": "ipython3",
   "version": "3.9.10"
  }
 },
 "nbformat": 4,
 "nbformat_minor": 5
}

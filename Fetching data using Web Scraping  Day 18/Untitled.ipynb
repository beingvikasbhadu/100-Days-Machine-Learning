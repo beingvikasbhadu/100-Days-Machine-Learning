{
 "cells": [
  {
   "cell_type": "markdown",
   "id": "9d52f5be",
   "metadata": {},
   "source": [
    "# Collecting Data of china area wise"
   ]
  },
  {
   "cell_type": "code",
   "execution_count": 1,
   "id": "83ef382f",
   "metadata": {},
   "outputs": [],
   "source": [
    "from bs4 import BeautifulSoup\n",
    "import requests\n",
    "import pandas as pd"
   ]
  },
  {
   "cell_type": "code",
   "execution_count": 2,
   "id": "3b39ad47",
   "metadata": {},
   "outputs": [],
   "source": [
    "# making request through url\n",
    "url=\"https://en.wikipedia.org/wiki/List_of_Chinese_administrative_divisions_by_area\"\n",
    "data=requests.get(url).text\n"
   ]
  },
  {
   "cell_type": "code",
   "execution_count": 3,
   "id": "80670027",
   "metadata": {},
   "outputs": [],
   "source": [
    "# crate soup object to do web scraping\n",
    "soup= BeautifulSoup(data)"
   ]
  },
  {
   "cell_type": "code",
   "execution_count": 4,
   "id": "e1bb9d6c",
   "metadata": {},
   "outputs": [],
   "source": [
    "table=soup.find(class_=\"wikitable\")"
   ]
  },
  {
   "cell_type": "code",
   "execution_count": 5,
   "id": "3f2841b7",
   "metadata": {},
   "outputs": [],
   "source": [
    "rows=table.find_all('tr')"
   ]
  },
  {
   "cell_type": "code",
   "execution_count": 6,
   "id": "69d3d8f2",
   "metadata": {},
   "outputs": [
    {
     "data": {
      "text/plain": [
       "'https://en.wikipedia.org//wiki/China'"
      ]
     },
     "execution_count": 6,
     "metadata": {},
     "output_type": "execute_result"
    }
   ],
   "source": [
    "#to get link of all chinese area wikipedia\n",
    "links=[]\n",
    "for row in rows:\n",
    "    try:\n",
    "        link=row.find_all('td')[1].find('a').get('href')\n",
    "        links.append('https://en.wikipedia.org/'+link)\n",
    "    except:\n",
    "         pass\n",
    "links.pop()"
   ]
  },
  {
   "cell_type": "code",
   "execution_count": 7,
   "id": "50feef5e",
   "metadata": {},
   "outputs": [],
   "source": [
    "# get list of rows from link\n",
    "import time\n",
    "headers = {\n",
    "\t\"X-RapidAPI-Key\": \"784268d51dmsh7e9955292f1d549p137e22jsn7b376a1de04b\",\n",
    "\t\"X-RapidAPI-Host\": \"keyword-research-for-youtube.p.rapidapi.com\"\n",
    "}\n",
    "def get_rows(link):\n",
    "        time.sleep(1)\n",
    "        data=requests.get(link,headers=headers).text\n",
    "        areaInfo=BeautifulSoup(data)\n",
    "        rows=areaInfo.find('table',{'class':['infobox ib-settlement vcard','infobox ib-pol-div vcard']}).find_all('tr')\n",
    "        return rows\n"
   ]
  },
  {
   "cell_type": "code",
   "execution_count": 8,
   "id": "b2ac6b6f",
   "metadata": {},
   "outputs": [],
   "source": [
    "import re\n",
    "def get_info(rows,info):\n",
    "    keys=[]\n",
    "    values=[]\n",
    "    for i in range(len(rows)):\n",
    "            key=\"\"\n",
    "            value=\"\"\n",
    "            try:\n",
    "                 key= rows[i].find('th').get_text()\n",
    "            except:\n",
    "                pass\n",
    "            try:\n",
    "                value= rows[i].find('td').get_text()\n",
    "            except:\n",
    "                pass\n",
    "            if(key!='' or value!=''):\n",
    "                keys.append(key)\n",
    "                values.append(value)\n",
    "                \n",
    "    value=\"\"\n",
    "    for i in range(len(keys)):\n",
    "    #     print(value)\n",
    "        if values[i]=='':\n",
    "            value=keys[i]\n",
    "        else:\n",
    "            if keys[i].startswith('\\xa0'):\n",
    "\n",
    "                            info[value+\" \"+re.sub(r'^\\W*', '', keys[i])]=values[i]\n",
    "            else:\n",
    "                info[keys[i]]=values[i]\n",
    "                value=\"\" \n",
    "    return info"
   ]
  },
  {
   "cell_type": "code",
   "execution_count": 9,
   "id": "b59b42a8",
   "metadata": {},
   "outputs": [],
   "source": [
    "Info=[]\n",
    "cnt=0\n",
    "for link in links:\n",
    "    rows=get_rows(link)\n",
    "    info={}\n",
    "    info['area']=rows[0].find('th').get_text()\n",
    "    Info.append(get_info(rows,info))"
   ]
  },
  {
   "cell_type": "code",
   "execution_count": 16,
   "id": "5e28d566",
   "metadata": {},
   "outputs": [],
   "source": [
    "import json\n",
    "with open('data.json', 'w') as fout:\n",
    "    json.dump(Info , fout)"
   ]
  },
  {
   "cell_type": "code",
   "execution_count": 20,
   "id": "957db1ba",
   "metadata": {},
   "outputs": [],
   "source": [
    "with open(r\"data.json\", \"r\") as read_file:\n",
    "    data = json.load(read_file)"
   ]
  },
  {
   "cell_type": "code",
   "execution_count": 21,
   "id": "86b6d904",
   "metadata": {},
   "outputs": [],
   "source": [
    "df=pd.DataFrame(data)"
   ]
  },
  {
   "cell_type": "code",
   "execution_count": 27,
   "id": "cd973e9e",
   "metadata": {},
   "outputs": [
    {
     "data": {
      "text/plain": [
       "area                                    0\n",
       "                                        0\n",
       "Name transcription(s) Chinese           8\n",
       "Name transcription(s) Uyghur           32\n",
       "Name transcription(s) Abbreviation      8\n",
       "                                       ..\n",
       "Highest elevation (Alto de Coloane)    32\n",
       "• 2021 estimate                        32\n",
       "Gini (2013)                            32\n",
       "HDI (2019)                             32\n",
       "Licence plate prefixes                 32\n",
       "Length: 279, dtype: int64"
      ]
     },
     "execution_count": 27,
     "metadata": {},
     "output_type": "execute_result"
    }
   ],
   "source": []
  },
  {
   "cell_type": "code",
   "execution_count": null,
   "id": "3691f377",
   "metadata": {},
   "outputs": [],
   "source": []
  }
 ],
 "metadata": {
  "kernelspec": {
   "display_name": "Python 3 (ipykernel)",
   "language": "python",
   "name": "python3"
  },
  "language_info": {
   "codemirror_mode": {
    "name": "ipython",
    "version": 3
   },
   "file_extension": ".py",
   "mimetype": "text/x-python",
   "name": "python",
   "nbconvert_exporter": "python",
   "pygments_lexer": "ipython3",
   "version": "3.9.10"
  }
 },
 "nbformat": 4,
 "nbformat_minor": 5
}
